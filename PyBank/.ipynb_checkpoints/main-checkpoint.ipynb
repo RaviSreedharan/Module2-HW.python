{
 "cells": [
  {
   "cell_type": "code",
   "execution_count": 112,
   "metadata": {},
   "outputs": [],
   "source": [
    "# Unit 2 | Homework Assignment: Automate Your Day Job with Python\n",
    "#----------------------------------------------------------------\n",
    "#\n",
    "# Note that this dataset is composed of two columns, Month-Date (each row/date corresponding to a month) and Profit/Loss in that Month-Date.\n",
    "# Format: Date,Profit/Losses | Jan-2010,867884 | Feb-2010,984655 | ...\n",
    "#\n",
    "# Create a Python script that analyzes the records to calculate each of the following:\n",
    "#  - The total number of months included in the dataset.\n",
    "#  - The net total amount of Profit/Losses over the entire period.\n",
    "#  - The average of the changes in Profit/Losses over the entire period.\n",
    "#  - The greatest increase in profits (date and amount) over the entire period.\n",
    "#  - The greatest decrease in losses (date and amount) over the entire period.\n",
    "#  - Print the above analysis to the terminal and also export results to a text file.\n",
    "#\n",
    "# Expected output:\n",
    "#  Financial Analysis\n",
    "#  ------------------\n",
    "#  Total Months: 86\n",
    "#  Total Amount: $38382578\n",
    "#  Average Change: $-2315.12\n",
    "#  Greatest Increase in Profits: Feb-2012 ($1926159)\n",
    "#  Greatest Decrease in Profits: Sep-2013 ($-2196167)"
   ]
  },
  {
   "cell_type": "code",
   "execution_count": 113,
   "metadata": {},
   "outputs": [],
   "source": [
    "# Import required Python library t oread CSV file; Import from the pathlib library, the main class Path\n",
    "import csv\n",
    "from pathlib import Path"
   ]
  },
  {
   "cell_type": "code",
   "execution_count": 114,
   "metadata": {},
   "outputs": [],
   "source": [
    "# Set file paths for budget_data.csv\n",
    "filepath = Path(\"./Resources/budget_data.csv\")\n",
    "# Initiolize all other required variables\n",
    "filecontent = []\n",
    "totalmonths = 0\n",
    "nettotalamt = 0\n",
    "avgchanges = 0\n",
    "currprofitloss = 0\n",
    "maxprofit = 0\n",
    "maxloss = 0\n",
    "maxprofitmonth = \"\"\n",
    "maxlossmonth = \"\""
   ]
  },
  {
   "cell_type": "code",
   "execution_count": 115,
   "metadata": {},
   "outputs": [],
   "source": [
    "# Open the file read the contents into  the variable \"filecontent\"\n",
    "with open(filepath, 'r') as file:\n",
    "    # Store all of the text from the file inside a variable called \"text\"and print the contexts of the text file\n",
    "    #filecontent = file.read()\n",
    "    filecontent = csv.reader(file, delimiter=',')\n",
    "    # Iterate over each element of the list to determine metrics\n",
    "    for row in filecontent:\n",
    "        # Cumulatively count the rows/months\n",
    "        if totalmonths == 0:\n",
    "            # for the first iteration/row, do nothing i.e. ignore the header row\n",
    "            totalmonths += 1\n",
    "        elif totalmonths == 1:\n",
    "            # for the 2nd iteration/row, initialize MaxLoss and MaxProfit\n",
    "            totalmonths += 1\n",
    "            currprofitloss = float(row[1])\n",
    "            maxloss = currprofitloss\n",
    "            maxprofit = currprofitloss\n",
    "            nettotalamt = currprofitloss\n",
    "            # Sum up the total, calculate max profit/loss\n",
    "        else:\n",
    "            totalmonths += 1\n",
    "            # Sum up the total, calculate max profit/loss\n",
    "            currprofitloss = float(row[1])\n",
    "            if currprofitloss > maxprofit:\n",
    "                maxprofitmonth = row[0]\n",
    "                maxprofit = currprofitloss\n",
    "            elif currprofitloss < maxloss:\n",
    "                maxlossmonth = row[0]\n",
    "                maxloss = currprofitloss\n",
    "            nettotalamt += currprofitloss\n",
    "file.close()"
   ]
  },
  {
   "cell_type": "code",
   "execution_count": 131,
   "metadata": {},
   "outputs": [],
   "source": [
    "# Reduce month_count by 1 to accoutn for header row\n",
    "totalmonths = totalmonths - 1\n",
    "# Calculate the average\n",
    "avgchanges = nettotalamt/totalmonths\n",
    "#print(f\"Net Total: {nettotalamt}\")\n",
    "#print(f\"Total Months: {totalmonths}\")"
   ]
  },
  {
   "cell_type": "code",
   "execution_count": 139,
   "metadata": {},
   "outputs": [],
   "source": [
    "output = f\"\"\"\n",
    "Financial Analysis\n",
    "------------------------\n",
    "Total Months: {totalmonths}\n",
    "Total Amount: ${round(nettotalamt,2)}\n",
    "Average Change: ${round(avgchanges,2)}\n",
    "Greatest Increase in Profits: {maxprofitmonth} (${round(maxprofit,2)})\n",
    "Greatest Decrease in Profits: {maxlossmonth} (${round(maxloss,2)})\n",
    "\"\"\""
   ]
  },
  {
   "cell_type": "code",
   "execution_count": 140,
   "metadata": {},
   "outputs": [
    {
     "name": "stdout",
     "output_type": "stream",
     "text": [
      "\n",
      "Financial Analysis\n",
      "------------------------\n",
      "Total Months: 86\n",
      "Total Amount: $38382578.0\n",
      "Average Change: $446309.05\n",
      "Greatest Increase in Profits: Feb-2012 ($1170593.0)\n",
      "Greatest Decrease in Profits: Sep-2013 ($-1196225.0)\n",
      "\n"
     ]
    }
   ],
   "source": [
    "# write formatted output to terminal/display\n",
    "print(output)"
   ]
  },
  {
   "cell_type": "code",
   "execution_count": 130,
   "metadata": {},
   "outputs": [],
   "source": [
    "# write formatted output to text file\n",
    "with open(\"output.txt\",\"w\") as file:\n",
    "    file.write(output)"
   ]
  }
 ],
 "metadata": {
  "kernelspec": {
   "display_name": "Python 3 (ipykernel)",
   "language": "python",
   "name": "python3"
  },
  "language_info": {
   "codemirror_mode": {
    "name": "ipython",
    "version": 3
   },
   "file_extension": ".py",
   "mimetype": "text/x-python",
   "name": "python",
   "nbconvert_exporter": "python",
   "pygments_lexer": "ipython3",
   "version": "3.9.12"
  },
  "vscode": {
   "interpreter": {
    "hash": "2f0726de2e6eff2828a7b5af1877df182467dd8c80501b5516c9c25c603ad953"
   }
  }
 },
 "nbformat": 4,
 "nbformat_minor": 4
}
